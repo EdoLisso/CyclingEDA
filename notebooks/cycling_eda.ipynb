{
 "cells": [
  {
   "cell_type": "code",
   "execution_count": 48,
   "id": "4e39ca22-301b-4d64-b541-9a00d6b09435",
   "metadata": {},
   "outputs": [
    {
     "name": "stdout",
     "output_type": "stream",
     "text": [
      "2024-12-01 08:50:16+00:00\n"
     ]
    }
   ],
   "source": [
    "from garmin_fit_sdk import Decoder, Stream\n",
    "\n",
    "stream = Stream.from_file('../data/13887398069.fit')\n",
    "decoder = Decoder(stream)\n",
    "messages, errors = decoder.read()\n",
    "\n",
    "print(messages[\"file_id_mesgs\"][0][\"time_created\"])"
   ]
  }
 ],
 "metadata": {
  "kernelspec": {
   "display_name": "Python 3 (ipykernel)",
   "language": "python",
   "name": "python3"
  },
  "language_info": {
   "codemirror_mode": {
    "name": "ipython",
    "version": 3
   },
   "file_extension": ".py",
   "mimetype": "text/x-python",
   "name": "python",
   "nbconvert_exporter": "python",
   "pygments_lexer": "ipython3",
   "version": "3.13.1"
  }
 },
 "nbformat": 4,
 "nbformat_minor": 5
}
